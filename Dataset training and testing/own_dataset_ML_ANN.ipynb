{
 "cells": [
  {
   "cell_type": "code",
   "execution_count": 1,
   "id": "8fda5fb4-4790-4918-bc1b-933778775b2a",
   "metadata": {},
   "outputs": [
    {
     "data": {
      "text/plain": [
       "(140000, 12)"
      ]
     },
     "execution_count": 1,
     "metadata": {},
     "output_type": "execute_result"
    }
   ],
   "source": [
    "import pandas as pd\n",
    "\n",
    "df = pd.read_csv('research_traffic.csv')\n",
    "df.shape"
   ]
  },
  {
   "cell_type": "code",
   "execution_count": 2,
   "id": "b36dda90-3c95-4797-94e2-4e5ea44ef590",
   "metadata": {},
   "outputs": [
    {
     "name": "stdout",
     "output_type": "stream",
     "text": [
      "Count_of_Source_IP        int64\n",
      "Port_Count                int64\n",
      "Pair_Count_Ratio        float64\n",
      "Packet_Count_Diff         int64\n",
      "Lookup_Count_Diff         int64\n",
      "Protocol                  int64\n",
      "Average_Packet_Count    float64\n",
      "Average_Byte_Count      float64\n",
      "Packet_Std_Dev          float64\n",
      "Byte_Std_Dev            float64\n",
      "Duration_per_Flow       float64\n",
      "Label                     int64\n",
      "dtype: object\n",
      "70000\n",
      "70000\n"
     ]
    },
    {
     "data": {
      "text/html": [
       "<div>\n",
       "<style scoped>\n",
       "    .dataframe tbody tr th:only-of-type {\n",
       "        vertical-align: middle;\n",
       "    }\n",
       "\n",
       "    .dataframe tbody tr th {\n",
       "        vertical-align: top;\n",
       "    }\n",
       "\n",
       "    .dataframe thead th {\n",
       "        text-align: right;\n",
       "    }\n",
       "</style>\n",
       "<table border=\"1\" class=\"dataframe\">\n",
       "  <thead>\n",
       "    <tr style=\"text-align: right;\">\n",
       "      <th></th>\n",
       "      <th>Count_of_Source_IP</th>\n",
       "      <th>Port_Count</th>\n",
       "      <th>Pair_Count_Ratio</th>\n",
       "      <th>Packet_Count_Diff</th>\n",
       "      <th>Lookup_Count_Diff</th>\n",
       "      <th>Protocol</th>\n",
       "      <th>Average_Packet_Count</th>\n",
       "      <th>Average_Byte_Count</th>\n",
       "      <th>Packet_Std_Dev</th>\n",
       "      <th>Byte_Std_Dev</th>\n",
       "      <th>Duration_per_Flow</th>\n",
       "      <th>Label</th>\n",
       "    </tr>\n",
       "  </thead>\n",
       "  <tbody>\n",
       "    <tr>\n",
       "      <th>0</th>\n",
       "      <td>2</td>\n",
       "      <td>2</td>\n",
       "      <td>1.0</td>\n",
       "      <td>436913</td>\n",
       "      <td>1</td>\n",
       "      <td>6</td>\n",
       "      <td>145637.6667</td>\n",
       "      <td>3.567915e+09</td>\n",
       "      <td>24719.5</td>\n",
       "      <td>5.339086e+09</td>\n",
       "      <td>1.258000</td>\n",
       "      <td>0</td>\n",
       "    </tr>\n",
       "    <tr>\n",
       "      <th>1</th>\n",
       "      <td>2</td>\n",
       "      <td>2</td>\n",
       "      <td>1.0</td>\n",
       "      <td>436912</td>\n",
       "      <td>1</td>\n",
       "      <td>6</td>\n",
       "      <td>145637.3333</td>\n",
       "      <td>3.567915e+09</td>\n",
       "      <td>24721.0</td>\n",
       "      <td>5.339086e+09</td>\n",
       "      <td>1.254000</td>\n",
       "      <td>0</td>\n",
       "    </tr>\n",
       "    <tr>\n",
       "      <th>2</th>\n",
       "      <td>2</td>\n",
       "      <td>2</td>\n",
       "      <td>1.0</td>\n",
       "      <td>1006277</td>\n",
       "      <td>1</td>\n",
       "      <td>6</td>\n",
       "      <td>335425.6667</td>\n",
       "      <td>8.291520e+09</td>\n",
       "      <td>61289.5</td>\n",
       "      <td>1.240812e+10</td>\n",
       "      <td>2.587333</td>\n",
       "      <td>0</td>\n",
       "    </tr>\n",
       "    <tr>\n",
       "      <th>3</th>\n",
       "      <td>2</td>\n",
       "      <td>2</td>\n",
       "      <td>0.0</td>\n",
       "      <td>1</td>\n",
       "      <td>1006280</td>\n",
       "      <td>6</td>\n",
       "      <td>335426.0000</td>\n",
       "      <td>8.291520e+09</td>\n",
       "      <td>61288.0</td>\n",
       "      <td>1.240812e+10</td>\n",
       "      <td>2.592000</td>\n",
       "      <td>0</td>\n",
       "    </tr>\n",
       "    <tr>\n",
       "      <th>4</th>\n",
       "      <td>2</td>\n",
       "      <td>2</td>\n",
       "      <td>1.0</td>\n",
       "      <td>1605562</td>\n",
       "      <td>6</td>\n",
       "      <td>6</td>\n",
       "      <td>535187.3333</td>\n",
       "      <td>1.321503e+10</td>\n",
       "      <td>97006.0</td>\n",
       "      <td>1.977597e+10</td>\n",
       "      <td>3.926000</td>\n",
       "      <td>0</td>\n",
       "    </tr>\n",
       "  </tbody>\n",
       "</table>\n",
       "</div>"
      ],
      "text/plain": [
       "   Count_of_Source_IP  Port_Count  Pair_Count_Ratio  Packet_Count_Diff  \\\n",
       "0                   2           2               1.0             436913   \n",
       "1                   2           2               1.0             436912   \n",
       "2                   2           2               1.0            1006277   \n",
       "3                   2           2               0.0                  1   \n",
       "4                   2           2               1.0            1605562   \n",
       "\n",
       "   Lookup_Count_Diff  Protocol  Average_Packet_Count  Average_Byte_Count  \\\n",
       "0                  1         6           145637.6667        3.567915e+09   \n",
       "1                  1         6           145637.3333        3.567915e+09   \n",
       "2                  1         6           335425.6667        8.291520e+09   \n",
       "3            1006280         6           335426.0000        8.291520e+09   \n",
       "4                  6         6           535187.3333        1.321503e+10   \n",
       "\n",
       "   Packet_Std_Dev  Byte_Std_Dev  Duration_per_Flow  Label  \n",
       "0         24719.5  5.339086e+09           1.258000      0  \n",
       "1         24721.0  5.339086e+09           1.254000      0  \n",
       "2         61289.5  1.240812e+10           2.587333      0  \n",
       "3         61288.0  1.240812e+10           2.592000      0  \n",
       "4         97006.0  1.977597e+10           3.926000      0  "
      ]
     },
     "execution_count": 2,
     "metadata": {},
     "output_type": "execute_result"
    }
   ],
   "source": [
    "print(df.dtypes)\n",
    "print(df['Label'].value_counts()[1])\n",
    "print(df['Label'].value_counts()[0])\n",
    "df.head()"
   ]
  },
  {
   "cell_type": "code",
   "execution_count": 3,
   "id": "14ef381b-bdeb-4763-8b49-edc61d005573",
   "metadata": {},
   "outputs": [],
   "source": [
    "# obj_cols=df.dtypes[df.dtypes == \"object\"].index.values.tolist()\n",
    "# print(obj_cols)\n",
    "\n",
    "# from sklearn.preprocessing import LabelEncoder\n",
    "# #Encode labels of multiple columns at once\n",
    "\n",
    "# df[obj_cols] = df[obj_cols].astype(str)\n",
    "# df[obj_cols] = df[obj_cols].apply(LabelEncoder().fit_transform)\n",
    "# #\n",
    "# # Print head\n",
    "# #\n",
    "# print(df.dtypes)\n",
    "# df.head()"
   ]
  },
  {
   "cell_type": "code",
   "execution_count": 4,
   "id": "b4f1a1b7-c63e-4016-a609-d040ba336bb1",
   "metadata": {},
   "outputs": [
    {
     "name": "stdout",
     "output_type": "stream",
     "text": [
      "Dataset normalized using MinMaxScaler.\n"
     ]
    }
   ],
   "source": [
    "import numpy as np\n",
    "from sklearn.model_selection import KFold, train_test_split\n",
    "from sklearn.preprocessing import StandardScaler, MinMaxScaler\n",
    "import tensorflow as tf\n",
    "from tensorflow.keras.models import Sequential\n",
    "from tensorflow.keras.layers import Dense\n",
    "from sklearn.metrics import accuracy_score, precision_score, recall_score, f1_score, confusion_matrix\n",
    "from datetime import datetime\n",
    "\n",
    "y = df.Label\n",
    "X = df.drop(['Label'],axis=1)\n",
    "\n",
    "# Normalize the dataset using MinMaxScaler\n",
    "normalizer = MinMaxScaler()\n",
    "X_normalized = normalizer.fit_transform(X)\n",
    "X = pd.DataFrame(X_normalized, columns=X.columns)\n",
    "print(\"Dataset normalized using MinMaxScaler.\")\n",
    "\n",
    "X_train_cv, X_unseen_test, y_train_cv, y_unseen_test = train_test_split(X, y, test_size=0.2, random_state=42)\n",
    "\n",
    "kf = KFold(n_splits=10, shuffle=True, random_state=42)"
   ]
  },
  {
   "cell_type": "code",
   "execution_count": 5,
   "id": "70348c51-b54b-4ce2-bf47-802f1da70b26",
   "metadata": {},
   "outputs": [],
   "source": [
    "def create_model():\n",
    "    model = Sequential()\n",
    "    model.add(Dense(32, input_dim=X_train_cv.shape[1], activation='relu'))\n",
    "    model.add(Dense(16, activation='relu'))\n",
    "    model.add(Dense(1, activation='sigmoid'))\n",
    "    model.compile(loss='binary_crossentropy', optimizer='adam', metrics=['accuracy'])\n",
    "    return model"
   ]
  },
  {
   "cell_type": "code",
   "execution_count": 6,
   "id": "11daec04-7a4d-4f70-9e8b-237d3d523c5b",
   "metadata": {},
   "outputs": [
    {
     "name": "stderr",
     "output_type": "stream",
     "text": [
      "C:\\Users\\Administrator\\AppData\\Local\\Programs\\Python\\Python312\\Lib\\site-packages\\keras\\src\\layers\\core\\dense.py:87: UserWarning: Do not pass an `input_shape`/`input_dim` argument to a layer. When using Sequential models, prefer using an `Input(shape)` object as the first layer in the model instead.\n",
      "  super().__init__(activity_regularizer=activity_regularizer, **kwargs)\n"
     ]
    },
    {
     "name": "stdout",
     "output_type": "stream",
     "text": [
      "\u001b[1m3150/3150\u001b[0m \u001b[32m━━━━━━━━━━━━━━━━━━━━\u001b[0m\u001b[37m\u001b[0m \u001b[1m2s\u001b[0m 699us/step\n",
      "\u001b[1m350/350\u001b[0m \u001b[32m━━━━━━━━━━━━━━━━━━━━\u001b[0m\u001b[37m\u001b[0m \u001b[1m0s\u001b[0m 768us/step\n"
     ]
    },
    {
     "name": "stderr",
     "output_type": "stream",
     "text": [
      "C:\\Users\\Administrator\\AppData\\Local\\Programs\\Python\\Python312\\Lib\\site-packages\\keras\\src\\layers\\core\\dense.py:87: UserWarning: Do not pass an `input_shape`/`input_dim` argument to a layer. When using Sequential models, prefer using an `Input(shape)` object as the first layer in the model instead.\n",
      "  super().__init__(activity_regularizer=activity_regularizer, **kwargs)\n"
     ]
    },
    {
     "name": "stdout",
     "output_type": "stream",
     "text": [
      "\u001b[1m3150/3150\u001b[0m \u001b[32m━━━━━━━━━━━━━━━━━━━━\u001b[0m\u001b[37m\u001b[0m \u001b[1m3s\u001b[0m 907us/step\n",
      "\u001b[1m350/350\u001b[0m \u001b[32m━━━━━━━━━━━━━━━━━━━━\u001b[0m\u001b[37m\u001b[0m \u001b[1m0s\u001b[0m 761us/step\n"
     ]
    },
    {
     "name": "stderr",
     "output_type": "stream",
     "text": [
      "C:\\Users\\Administrator\\AppData\\Local\\Programs\\Python\\Python312\\Lib\\site-packages\\keras\\src\\layers\\core\\dense.py:87: UserWarning: Do not pass an `input_shape`/`input_dim` argument to a layer. When using Sequential models, prefer using an `Input(shape)` object as the first layer in the model instead.\n",
      "  super().__init__(activity_regularizer=activity_regularizer, **kwargs)\n"
     ]
    },
    {
     "name": "stdout",
     "output_type": "stream",
     "text": [
      "\u001b[1m3150/3150\u001b[0m \u001b[32m━━━━━━━━━━━━━━━━━━━━\u001b[0m\u001b[37m\u001b[0m \u001b[1m2s\u001b[0m 718us/step\n",
      "\u001b[1m350/350\u001b[0m \u001b[32m━━━━━━━━━━━━━━━━━━━━\u001b[0m\u001b[37m\u001b[0m \u001b[1m0s\u001b[0m 722us/step\n"
     ]
    },
    {
     "name": "stderr",
     "output_type": "stream",
     "text": [
      "C:\\Users\\Administrator\\AppData\\Local\\Programs\\Python\\Python312\\Lib\\site-packages\\keras\\src\\layers\\core\\dense.py:87: UserWarning: Do not pass an `input_shape`/`input_dim` argument to a layer. When using Sequential models, prefer using an `Input(shape)` object as the first layer in the model instead.\n",
      "  super().__init__(activity_regularizer=activity_regularizer, **kwargs)\n"
     ]
    },
    {
     "name": "stdout",
     "output_type": "stream",
     "text": [
      "\u001b[1m3150/3150\u001b[0m \u001b[32m━━━━━━━━━━━━━━━━━━━━\u001b[0m\u001b[37m\u001b[0m \u001b[1m2s\u001b[0m 748us/step\n",
      "\u001b[1m350/350\u001b[0m \u001b[32m━━━━━━━━━━━━━━━━━━━━\u001b[0m\u001b[37m\u001b[0m \u001b[1m0s\u001b[0m 713us/step\n"
     ]
    },
    {
     "name": "stderr",
     "output_type": "stream",
     "text": [
      "C:\\Users\\Administrator\\AppData\\Local\\Programs\\Python\\Python312\\Lib\\site-packages\\keras\\src\\layers\\core\\dense.py:87: UserWarning: Do not pass an `input_shape`/`input_dim` argument to a layer. When using Sequential models, prefer using an `Input(shape)` object as the first layer in the model instead.\n",
      "  super().__init__(activity_regularizer=activity_regularizer, **kwargs)\n"
     ]
    },
    {
     "name": "stdout",
     "output_type": "stream",
     "text": [
      "\u001b[1m3150/3150\u001b[0m \u001b[32m━━━━━━━━━━━━━━━━━━━━\u001b[0m\u001b[37m\u001b[0m \u001b[1m2s\u001b[0m 671us/step\n",
      "\u001b[1m350/350\u001b[0m \u001b[32m━━━━━━━━━━━━━━━━━━━━\u001b[0m\u001b[37m\u001b[0m \u001b[1m0s\u001b[0m 702us/step\n"
     ]
    },
    {
     "name": "stderr",
     "output_type": "stream",
     "text": [
      "C:\\Users\\Administrator\\AppData\\Local\\Programs\\Python\\Python312\\Lib\\site-packages\\keras\\src\\layers\\core\\dense.py:87: UserWarning: Do not pass an `input_shape`/`input_dim` argument to a layer. When using Sequential models, prefer using an `Input(shape)` object as the first layer in the model instead.\n",
      "  super().__init__(activity_regularizer=activity_regularizer, **kwargs)\n"
     ]
    },
    {
     "name": "stdout",
     "output_type": "stream",
     "text": [
      "\u001b[1m3150/3150\u001b[0m \u001b[32m━━━━━━━━━━━━━━━━━━━━\u001b[0m\u001b[37m\u001b[0m \u001b[1m2s\u001b[0m 745us/step\n",
      "\u001b[1m350/350\u001b[0m \u001b[32m━━━━━━━━━━━━━━━━━━━━\u001b[0m\u001b[37m\u001b[0m \u001b[1m0s\u001b[0m 687us/step\n"
     ]
    },
    {
     "name": "stderr",
     "output_type": "stream",
     "text": [
      "C:\\Users\\Administrator\\AppData\\Local\\Programs\\Python\\Python312\\Lib\\site-packages\\keras\\src\\layers\\core\\dense.py:87: UserWarning: Do not pass an `input_shape`/`input_dim` argument to a layer. When using Sequential models, prefer using an `Input(shape)` object as the first layer in the model instead.\n",
      "  super().__init__(activity_regularizer=activity_regularizer, **kwargs)\n"
     ]
    },
    {
     "name": "stdout",
     "output_type": "stream",
     "text": [
      "\u001b[1m3150/3150\u001b[0m \u001b[32m━━━━━━━━━━━━━━━━━━━━\u001b[0m\u001b[37m\u001b[0m \u001b[1m3s\u001b[0m 795us/step\n",
      "\u001b[1m350/350\u001b[0m \u001b[32m━━━━━━━━━━━━━━━━━━━━\u001b[0m\u001b[37m\u001b[0m \u001b[1m0s\u001b[0m 732us/step\n"
     ]
    },
    {
     "name": "stderr",
     "output_type": "stream",
     "text": [
      "C:\\Users\\Administrator\\AppData\\Local\\Programs\\Python\\Python312\\Lib\\site-packages\\keras\\src\\layers\\core\\dense.py:87: UserWarning: Do not pass an `input_shape`/`input_dim` argument to a layer. When using Sequential models, prefer using an `Input(shape)` object as the first layer in the model instead.\n",
      "  super().__init__(activity_regularizer=activity_regularizer, **kwargs)\n"
     ]
    },
    {
     "name": "stdout",
     "output_type": "stream",
     "text": [
      "\u001b[1m3150/3150\u001b[0m \u001b[32m━━━━━━━━━━━━━━━━━━━━\u001b[0m\u001b[37m\u001b[0m \u001b[1m2s\u001b[0m 666us/step\n",
      "\u001b[1m350/350\u001b[0m \u001b[32m━━━━━━━━━━━━━━━━━━━━\u001b[0m\u001b[37m\u001b[0m \u001b[1m0s\u001b[0m 679us/step\n"
     ]
    },
    {
     "name": "stderr",
     "output_type": "stream",
     "text": [
      "C:\\Users\\Administrator\\AppData\\Local\\Programs\\Python\\Python312\\Lib\\site-packages\\keras\\src\\layers\\core\\dense.py:87: UserWarning: Do not pass an `input_shape`/`input_dim` argument to a layer. When using Sequential models, prefer using an `Input(shape)` object as the first layer in the model instead.\n",
      "  super().__init__(activity_regularizer=activity_regularizer, **kwargs)\n"
     ]
    },
    {
     "name": "stdout",
     "output_type": "stream",
     "text": [
      "\u001b[1m3150/3150\u001b[0m \u001b[32m━━━━━━━━━━━━━━━━━━━━\u001b[0m\u001b[37m\u001b[0m \u001b[1m2s\u001b[0m 728us/step\n",
      "\u001b[1m350/350\u001b[0m \u001b[32m━━━━━━━━━━━━━━━━━━━━\u001b[0m\u001b[37m\u001b[0m \u001b[1m0s\u001b[0m 784us/step\n"
     ]
    },
    {
     "name": "stderr",
     "output_type": "stream",
     "text": [
      "C:\\Users\\Administrator\\AppData\\Local\\Programs\\Python\\Python312\\Lib\\site-packages\\keras\\src\\layers\\core\\dense.py:87: UserWarning: Do not pass an `input_shape`/`input_dim` argument to a layer. When using Sequential models, prefer using an `Input(shape)` object as the first layer in the model instead.\n",
      "  super().__init__(activity_regularizer=activity_regularizer, **kwargs)\n"
     ]
    },
    {
     "name": "stdout",
     "output_type": "stream",
     "text": [
      "\u001b[1m3150/3150\u001b[0m \u001b[32m━━━━━━━━━━━━━━━━━━━━\u001b[0m\u001b[37m\u001b[0m \u001b[1m2s\u001b[0m 690us/step\n",
      "\u001b[1m350/350\u001b[0m \u001b[32m━━━━━━━━━━━━━━━━━━━━\u001b[0m\u001b[37m\u001b[0m \u001b[1m0s\u001b[0m 704us/step\n",
      "\u001b[1m875/875\u001b[0m \u001b[32m━━━━━━━━━━━━━━━━━━━━\u001b[0m\u001b[37m\u001b[0m \u001b[1m1s\u001b[0m 682us/step\n"
     ]
    }
   ],
   "source": [
    "# Initialize lists to store metrics\n",
    "train_accuracies = []\n",
    "test_accuracies = []\n",
    "precisions = []\n",
    "recalls = []\n",
    "f1_scores = []\n",
    "confusion_matrices = []\n",
    "start = datetime.now()\n",
    "\n",
    "for train_index, test_index in kf.split(X_train_cv):\n",
    "    X_train, X_test = X_train_cv.iloc[train_index], X_train_cv.iloc[test_index]\n",
    "    y_train, y_test = y_train_cv.iloc[train_index], y_train_cv.iloc[test_index]\n",
    "    \n",
    "    model = create_model()\n",
    "    model.fit(X_train, y_train, epochs=50, batch_size=10, verbose=0)\n",
    "    \n",
    "    # Evaluate on training data\n",
    "    y_pred_train = (model.predict(X_train) > 0.5).astype(int)\n",
    "    y_pred_test = (model.predict(X_test) > 0.5).astype(int)\n",
    "    \n",
    "    # Calculate metrics for the test fold\n",
    "    train_accuracies.append(accuracy_score(y_train, y_pred_train))\n",
    "    test_accuracies.append(accuracy_score(y_test, y_pred_test))\n",
    "    precisions.append(precision_score(y_test, y_pred_test))\n",
    "    recalls.append(recall_score(y_test, y_pred_test))\n",
    "    f1_scores.append(f1_score(y_test, y_pred_test))\n",
    "    confusion_matrices.append(confusion_matrix(y_test, y_pred_test))\n",
    "\n",
    "y_unseen_pred = (model.predict(X_unseen_test) > 0.5).astype(int)\n",
    "unseen_accuracy = accuracy_score(y_unseen_test, y_unseen_pred)\n",
    "unseen_precision = precision_score(y_unseen_test, y_unseen_pred)\n",
    "unseen_recall = recall_score(y_unseen_test, y_unseen_pred)\n",
    "unseen_f1 = f1_score(y_unseen_test, y_unseen_pred)\n",
    "unseen_conf_matrix = confusion_matrix(y_unseen_test, y_unseen_pred)\n",
    "end = datetime.now()"
   ]
  },
  {
   "cell_type": "code",
   "execution_count": 7,
   "id": "d24e85cc-3136-40ba-847a-4714ede924bf",
   "metadata": {},
   "outputs": [
    {
     "name": "stdout",
     "output_type": "stream",
     "text": [
      "Average Confusion Matrix:\n",
      "[[5472.5  141.4]\n",
      " [  44.1 5542. ]]\n"
     ]
    }
   ],
   "source": [
    "\n",
    "# Calculate the average confusion matrix\n",
    "import numpy as np\n",
    "\n",
    "# Initialize an array to store the sum of confusion matrices\n",
    "confusion_matrix_sum = np.zeros((2, 2))  # Adjust the size if multi-class classification\n",
    "\n",
    "# During the cross-validation loop, confusion matrices were already calculated\n",
    "# Here, we'll sum up those matrices (assumes `confusion_matrices` contains all fold matrices)\n",
    "for cm in confusion_matrices:\n",
    "    confusion_matrix_sum += cm\n",
    "\n",
    "# Compute the average confusion matrix\n",
    "average_conf_matrix = confusion_matrix_sum / 10\n",
    "\n",
    "# Display the average confusion matrix\n",
    "print(\"Average Confusion Matrix:\")\n",
    "print(average_conf_matrix)"
   ]
  },
  {
   "cell_type": "code",
   "execution_count": 8,
   "id": "b7acf089-88a8-4b70-bd60-7683ebac1429",
   "metadata": {
    "scrolled": true
   },
   "outputs": [
    {
     "name": "stdout",
     "output_type": "stream",
     "text": [
      "Fold 1:\n",
      "Training Accuracy: 0.9833928571428572\n",
      "Testing Accuracy: 0.9847321428571428\n",
      "Precision: 0.9763074763074763\n",
      "Recall: 0.9935702804072156\n",
      "F1-Score: 0.984863238027795\n",
      "Confusion Matrix:\n",
      "[[5466  135]\n",
      " [  36 5563]]\n",
      "\n",
      "Fold 2:\n",
      "Training Accuracy: 0.9836507936507937\n",
      "Testing Accuracy: 0.9823214285714286\n",
      "Precision: 0.9742504409171076\n",
      "Recall: 0.990674318507891\n",
      "F1-Score: 0.9823937399964432\n",
      "Confusion Matrix:\n",
      "[[5478  146]\n",
      " [  52 5524]]\n",
      "\n",
      "Fold 3:\n",
      "Training Accuracy: 0.9837301587301587\n",
      "Testing Accuracy: 0.9832142857142857\n",
      "Precision: 0.9746131107633456\n",
      "Recall: 0.9925624225252346\n",
      "F1-Score: 0.9835058782242498\n",
      "Confusion Matrix:\n",
      "[[5407  146]\n",
      " [  42 5605]]\n",
      "\n",
      "Fold 4:\n",
      "Training Accuracy: 0.9833134920634921\n",
      "Testing Accuracy: 0.9846428571428572\n",
      "Precision: 0.9765124555160143\n",
      "Recall: 0.9927641099855282\n",
      "F1-Score: 0.9845712235378543\n",
      "Confusion Matrix:\n",
      "[[5540  132]\n",
      " [  40 5488]]\n",
      "\n",
      "Fold 5:\n",
      "Training Accuracy: 0.983343253968254\n",
      "Testing Accuracy: 0.9847321428571428\n",
      "Precision: 0.9778208061960922\n",
      "Recall: 0.9919642857142857\n",
      "F1-Score: 0.9848417693466891\n",
      "Confusion Matrix:\n",
      "[[5474  126]\n",
      " [  45 5555]]\n",
      "\n",
      "Fold 6:\n",
      "Training Accuracy: 0.9835019841269841\n",
      "Testing Accuracy: 0.985\n",
      "Precision: 0.9768959435626102\n",
      "Recall: 0.9933644189383071\n",
      "F1-Score: 0.9850613551484972\n",
      "Confusion Matrix:\n",
      "[[5493  131]\n",
      " [  37 5539]]\n",
      "\n",
      "Fold 7:\n",
      "Training Accuracy: 0.9838392857142857\n",
      "Testing Accuracy: 0.9827678571428572\n",
      "Precision: 0.973445143256464\n",
      "Recall: 0.9926955282380189\n",
      "F1-Score: 0.9829760959689512\n",
      "Confusion Matrix:\n",
      "[[5435  152]\n",
      " [  41 5572]]\n",
      "\n",
      "Fold 8:\n",
      "Training Accuracy: 0.9833730158730158\n",
      "Testing Accuracy: 0.9830357142857142\n",
      "Precision: 0.9755152369209089\n",
      "Recall: 0.9908749329039184\n",
      "F1-Score: 0.9831350967512871\n",
      "Confusion Matrix:\n",
      "[[5472  139]\n",
      " [  51 5538]]\n",
      "\n",
      "Fold 9:\n",
      "Training Accuracy: 0.983829365079365\n",
      "Testing Accuracy: 0.9821428571428571\n",
      "Precision: 0.9733451015004413\n",
      "Recall: 0.9911918029840014\n",
      "F1-Score: 0.9821873886711792\n",
      "Confusion Matrix:\n",
      "[[5486  151]\n",
      " [  49 5514]]\n",
      "\n",
      "Fold 10:\n",
      "Training Accuracy: 0.9836011904761904\n",
      "Testing Accuracy: 0.9817857142857143\n",
      "Precision: 0.9725255371609721\n",
      "Recall: 0.9913824057450629\n",
      "F1-Score: 0.9818634423897582\n",
      "Confusion Matrix:\n",
      "[[5474  156]\n",
      " [  48 5522]]\n",
      "\n",
      "Average Training Accuracy: 0.9835575396825396\n",
      "Average Testing Accuracy: 0.9834375\n",
      "Average Precision: 0.9751231252101433\n",
      "Average recall: 0.9921044505949462\n",
      "Average F1 Score: 0.9835399228062703\n",
      "Performance on Unseen Data:\n",
      "Accuracy: 0.9839285714285714\n",
      "Precision: 0.9761391304347826\n",
      "Recall: 0.9924322795105736\n",
      "F1-Score: 0.9842182787402679\n",
      "Confusion Matrix:\n",
      "[[13518   343]\n",
      " [  107 14032]]\n",
      "excution time:  1:13:11.232283\n"
     ]
    }
   ],
   "source": [
    "# Print the metrics for each fold\n",
    "for i in range(10):\n",
    "    print(f\"Fold {i+1}:\")\n",
    "    print(f\"Training Accuracy: {train_accuracies[i]}\")\n",
    "    print(f\"Testing Accuracy: {test_accuracies[i]}\")\n",
    "    print(f\"Precision: {precisions[i]}\")\n",
    "    print(f\"Recall: {recalls[i]}\")\n",
    "    print(f\"F1-Score: {f1_scores[i]}\")\n",
    "    print(f\"Confusion Matrix:\\n{confusion_matrices[i]}\\n\")\n",
    "\n",
    "print(f\"Average Training Accuracy: {sum(train_accuracies) / 10}\")\n",
    "print(f\"Average Testing Accuracy: {sum(test_accuracies) / 10}\")\n",
    "print(f\"Average Precision: {sum(precisions) / 10}\")\n",
    "print(f\"Average recall: {sum(recalls) / 10}\")\n",
    "print(f\"Average F1 Score: {sum(f1_scores) / 10}\")\n",
    "\n",
    "# Print the performance on the unseen data\n",
    "print(\"Performance on Unseen Data:\")\n",
    "print(f\"Accuracy: {unseen_accuracy}\")\n",
    "print(f\"Precision: {unseen_precision}\")\n",
    "print(f\"Recall: {unseen_recall}\")\n",
    "print(f\"F1-Score: {unseen_f1}\")\n",
    "print(f\"Confusion Matrix:\\n{unseen_conf_matrix}\")\n",
    "print(\"excution time: \", end-start)\n",
    " "
   ]
  },
  {
   "cell_type": "code",
   "execution_count": 9,
   "id": "f922c2a8-ee07-4cba-be86-1d8be7935e6a",
   "metadata": {},
   "outputs": [],
   "source": [
    "# import pickle\n",
    "# with open('ann_binary.pkl', 'wb') as file:\n",
    "#     pickle.dump(model, file)"
   ]
  },
  {
   "cell_type": "code",
   "execution_count": 10,
   "id": "a1b246c7-ef8f-42e8-b8f4-ff22d932cead",
   "metadata": {},
   "outputs": [
    {
     "name": "stderr",
     "output_type": "stream",
     "text": [
      "WARNING:absl:You are saving your model as an HDF5 file via `model.save()` or `keras.saving.save_model(model)`. This file format is considered legacy. We recommend using instead the native Keras format, e.g. `model.save('my_model.keras')` or `keras.saving.save_model(model, 'my_model.keras')`. \n"
     ]
    }
   ],
   "source": [
    "model.save('ann.h5')"
   ]
  },
  {
   "cell_type": "code",
   "execution_count": 11,
   "id": "2d101b78-6a99-48ba-9af2-dacc8e5f8e16",
   "metadata": {},
   "outputs": [],
   "source": [
    "model.save('ann.keras')"
   ]
  },
  {
   "cell_type": "code",
   "execution_count": null,
   "id": "5e9b6308-31e4-4f77-b03f-5d1298bc709c",
   "metadata": {},
   "outputs": [],
   "source": []
  }
 ],
 "metadata": {
  "kernelspec": {
   "display_name": "Python 3 (ipykernel)",
   "language": "python",
   "name": "python3"
  },
  "language_info": {
   "codemirror_mode": {
    "name": "ipython",
    "version": 3
   },
   "file_extension": ".py",
   "mimetype": "text/x-python",
   "name": "python",
   "nbconvert_exporter": "python",
   "pygments_lexer": "ipython3",
   "version": "3.12.2"
  }
 },
 "nbformat": 4,
 "nbformat_minor": 5
}
