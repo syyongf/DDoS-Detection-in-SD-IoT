{
 "cells": [
  {
   "cell_type": "code",
   "execution_count": 1,
   "id": "8fda5fb4-4790-4918-bc1b-933778775b2a",
   "metadata": {},
   "outputs": [
    {
     "data": {
      "text/plain": [
       "(60000, 12)"
      ]
     },
     "execution_count": 1,
     "metadata": {},
     "output_type": "execute_result"
    }
   ],
   "source": [
    "import pandas as pd\n",
    "\n",
    "df = pd.read_csv('research_traffic_multiple_labels.csv')\n",
    "df.shape"
   ]
  },
  {
   "cell_type": "code",
   "execution_count": 2,
   "id": "b36dda90-3c95-4797-94e2-4e5ea44ef590",
   "metadata": {},
   "outputs": [
    {
     "name": "stdout",
     "output_type": "stream",
     "text": [
      "Count of Source IP        int64\n",
      "Port Count                int64\n",
      "Pair Count Ratio        float64\n",
      "Packet Count Diff         int64\n",
      "Lookup Count Diff         int64\n",
      "Protocol                  int64\n",
      "Average Packet Count    float64\n",
      "Average Byte Count      float64\n",
      "Packet Std Dev          float64\n",
      "Byte Std Dev            float64\n",
      "Duration per Flow       float64\n",
      "Label                     int64\n",
      "dtype: object\n",
      "10000\n",
      "10000\n"
     ]
    },
    {
     "data": {
      "text/html": [
       "<div>\n",
       "<style scoped>\n",
       "    .dataframe tbody tr th:only-of-type {\n",
       "        vertical-align: middle;\n",
       "    }\n",
       "\n",
       "    .dataframe tbody tr th {\n",
       "        vertical-align: top;\n",
       "    }\n",
       "\n",
       "    .dataframe thead th {\n",
       "        text-align: right;\n",
       "    }\n",
       "</style>\n",
       "<table border=\"1\" class=\"dataframe\">\n",
       "  <thead>\n",
       "    <tr style=\"text-align: right;\">\n",
       "      <th></th>\n",
       "      <th>Count of Source IP</th>\n",
       "      <th>Port Count</th>\n",
       "      <th>Pair Count Ratio</th>\n",
       "      <th>Packet Count Diff</th>\n",
       "      <th>Lookup Count Diff</th>\n",
       "      <th>Protocol</th>\n",
       "      <th>Average Packet Count</th>\n",
       "      <th>Average Byte Count</th>\n",
       "      <th>Packet Std Dev</th>\n",
       "      <th>Byte Std Dev</th>\n",
       "      <th>Duration per Flow</th>\n",
       "      <th>Label</th>\n",
       "    </tr>\n",
       "  </thead>\n",
       "  <tbody>\n",
       "    <tr>\n",
       "      <th>0</th>\n",
       "      <td>545</td>\n",
       "      <td>545</td>\n",
       "      <td>0.0</td>\n",
       "      <td>2</td>\n",
       "      <td>43</td>\n",
       "      <td>6</td>\n",
       "      <td>0.027523</td>\n",
       "      <td>4.788991</td>\n",
       "      <td>0.163601</td>\n",
       "      <td>28.466647</td>\n",
       "      <td>0.668020</td>\n",
       "      <td>3</td>\n",
       "    </tr>\n",
       "    <tr>\n",
       "      <th>1</th>\n",
       "      <td>545</td>\n",
       "      <td>545</td>\n",
       "      <td>0.0</td>\n",
       "      <td>10</td>\n",
       "      <td>0</td>\n",
       "      <td>6</td>\n",
       "      <td>0.009174</td>\n",
       "      <td>1.596330</td>\n",
       "      <td>0.095342</td>\n",
       "      <td>16.589551</td>\n",
       "      <td>0.419081</td>\n",
       "      <td>3</td>\n",
       "    </tr>\n",
       "    <tr>\n",
       "      <th>2</th>\n",
       "      <td>52</td>\n",
       "      <td>52</td>\n",
       "      <td>0.0</td>\n",
       "      <td>3</td>\n",
       "      <td>0</td>\n",
       "      <td>6</td>\n",
       "      <td>0.000000</td>\n",
       "      <td>0.000000</td>\n",
       "      <td>0.000000</td>\n",
       "      <td>0.000000</td>\n",
       "      <td>0.018792</td>\n",
       "      <td>3</td>\n",
       "    </tr>\n",
       "    <tr>\n",
       "      <th>3</th>\n",
       "      <td>545</td>\n",
       "      <td>545</td>\n",
       "      <td>0.0</td>\n",
       "      <td>13</td>\n",
       "      <td>21</td>\n",
       "      <td>6</td>\n",
       "      <td>0.023853</td>\n",
       "      <td>4.150459</td>\n",
       "      <td>0.355016</td>\n",
       "      <td>61.772825</td>\n",
       "      <td>2.946281</td>\n",
       "      <td>3</td>\n",
       "    </tr>\n",
       "    <tr>\n",
       "      <th>4</th>\n",
       "      <td>545</td>\n",
       "      <td>545</td>\n",
       "      <td>0.0</td>\n",
       "      <td>2</td>\n",
       "      <td>131</td>\n",
       "      <td>6</td>\n",
       "      <td>0.027523</td>\n",
       "      <td>4.788991</td>\n",
       "      <td>0.163601</td>\n",
       "      <td>28.466647</td>\n",
       "      <td>2.674461</td>\n",
       "      <td>3</td>\n",
       "    </tr>\n",
       "  </tbody>\n",
       "</table>\n",
       "</div>"
      ],
      "text/plain": [
       "   Count of Source IP  Port Count  Pair Count Ratio  Packet Count Diff  \\\n",
       "0                 545         545               0.0                  2   \n",
       "1                 545         545               0.0                 10   \n",
       "2                  52          52               0.0                  3   \n",
       "3                 545         545               0.0                 13   \n",
       "4                 545         545               0.0                  2   \n",
       "\n",
       "   Lookup Count Diff  Protocol  Average Packet Count  Average Byte Count  \\\n",
       "0                 43         6              0.027523            4.788991   \n",
       "1                  0         6              0.009174            1.596330   \n",
       "2                  0         6              0.000000            0.000000   \n",
       "3                 21         6              0.023853            4.150459   \n",
       "4                131         6              0.027523            4.788991   \n",
       "\n",
       "   Packet Std Dev  Byte Std Dev  Duration per Flow  Label  \n",
       "0        0.163601     28.466647           0.668020      3  \n",
       "1        0.095342     16.589551           0.419081      3  \n",
       "2        0.000000      0.000000           0.018792      3  \n",
       "3        0.355016     61.772825           2.946281      3  \n",
       "4        0.163601     28.466647           2.674461      3  "
      ]
     },
     "execution_count": 2,
     "metadata": {},
     "output_type": "execute_result"
    }
   ],
   "source": [
    "print(df.dtypes)\n",
    "print(df['Label'].value_counts()[1])\n",
    "print(df['Label'].value_counts()[0])\n",
    "df.head()"
   ]
  },
  {
   "cell_type": "code",
   "execution_count": 3,
   "id": "14ef381b-bdeb-4763-8b49-edc61d005573",
   "metadata": {},
   "outputs": [],
   "source": [
    "# obj_cols=df.dtypes[df.dtypes == \"object\"].index.values.tolist()\n",
    "# print(obj_cols)\n",
    "\n",
    "# from sklearn.preprocessing import LabelEncoder\n",
    "# #Encode labels of multiple columns at once\n",
    "\n",
    "# df[obj_cols] = df[obj_cols].astype(str)\n",
    "# df[obj_cols] = df[obj_cols].apply(LabelEncoder().fit_transform)\n",
    "# #\n",
    "# # Print head\n",
    "# #\n",
    "# print(df.dtypes)\n",
    "# df.head()"
   ]
  },
  {
   "cell_type": "code",
   "execution_count": 4,
   "id": "b4f1a1b7-c63e-4016-a609-d040ba336bb1",
   "metadata": {},
   "outputs": [
    {
     "name": "stdout",
     "output_type": "stream",
     "text": [
      "Dataset normalized using MinMaxScaler.\n"
     ]
    }
   ],
   "source": [
    "import numpy as np\n",
    "from sklearn.model_selection import KFold, train_test_split\n",
    "from sklearn.preprocessing import StandardScaler, MinMaxScaler\n",
    "import tensorflow as tf\n",
    "from tensorflow.keras.models import Sequential\n",
    "from tensorflow.keras.layers import Dense, Dropout\n",
    "from sklearn.metrics import accuracy_score, precision_score, recall_score, f1_score, confusion_matrix\n",
    "from tensorflow.keras.utils import to_categorical\n",
    "from datetime import datetime\n",
    "\n",
    "y = df.Label.values  # Ensure y is a NumPy array before encoding\n",
    "X = df.drop(['Label'], axis=1)\n",
    "\n",
    "# Normalize the dataset using MinMaxScaler\n",
    "normalizer = MinMaxScaler()\n",
    "X_normalized = normalizer.fit_transform(X)\n",
    "X = pd.DataFrame(X_normalized, columns=X.columns)\n",
    "print(\"Dataset normalized using MinMaxScaler.\")\n",
    "\n",
    "# Ensure y is one-hot encoded for multiclass classification\n",
    "y = to_categorical(y)\n",
    "\n",
    "X_train_cv, X_unseen_test, y_train_cv, y_unseen_test = train_test_split(X, y, test_size=0.2, random_state=42)\n",
    "\n",
    "kf = KFold(n_splits=10, shuffle=True, random_state=42)\n",
    "\n",
    "def create_model():\n",
    "    model = Sequential()\n",
    "    model.add(Dense(64, input_dim=X_train_cv.shape[1], activation='relu'))\n",
    "    model.add(Dropout(0.3))\n",
    "    model.add(Dense(32, activation='relu'))\n",
    "    model.add(Dropout(0.3))\n",
    "    model.add(Dense(16, activation='relu'))\n",
    "    model.add(Dense(6, activation='softmax'))  # Adjusted for multiclass classification\n",
    "    model.compile(loss='categorical_crossentropy', optimizer=tf.keras.optimizers.Adam(learning_rate=0.001), metrics=['accuracy'])\n",
    "    return model\n"
   ]
  },
  {
   "cell_type": "code",
   "execution_count": 5,
   "id": "70348c51-b54b-4ce2-bf47-802f1da70b26",
   "metadata": {},
   "outputs": [],
   "source": [
    "# def create_model():\n",
    "#     model = Sequential()\n",
    "#     model.add(Dense(32, input_dim=X_train_cv.shape[1], activation='relu'))\n",
    "#     model.add(Dense(16, activation='relu'))\n",
    "#     model.add(Dense(1, activation='sigmoid'))\n",
    "#     model.compile(loss='binary_crossentropy', optimizer='adam', metrics=['accuracy'])\n",
    "#     return model"
   ]
  },
  {
   "cell_type": "code",
   "execution_count": 6,
   "id": "11daec04-7a4d-4f70-9e8b-237d3d523c5b",
   "metadata": {},
   "outputs": [
    {
     "name": "stderr",
     "output_type": "stream",
     "text": [
      "C:\\Users\\Administrator\\AppData\\Local\\Programs\\Python\\Python312\\Lib\\site-packages\\keras\\src\\layers\\core\\dense.py:87: UserWarning: Do not pass an `input_shape`/`input_dim` argument to a layer. When using Sequential models, prefer using an `Input(shape)` object as the first layer in the model instead.\n",
      "  super().__init__(activity_regularizer=activity_regularizer, **kwargs)\n"
     ]
    },
    {
     "name": "stdout",
     "output_type": "stream",
     "text": [
      "\u001b[1m1350/1350\u001b[0m \u001b[32m━━━━━━━━━━━━━━━━━━━━\u001b[0m\u001b[37m\u001b[0m \u001b[1m1s\u001b[0m 533us/step\n",
      "\u001b[1m150/150\u001b[0m \u001b[32m━━━━━━━━━━━━━━━━━━━━\u001b[0m\u001b[37m\u001b[0m \u001b[1m0s\u001b[0m 440us/step\n"
     ]
    },
    {
     "name": "stderr",
     "output_type": "stream",
     "text": [
      "C:\\Users\\Administrator\\AppData\\Local\\Programs\\Python\\Python312\\Lib\\site-packages\\keras\\src\\layers\\core\\dense.py:87: UserWarning: Do not pass an `input_shape`/`input_dim` argument to a layer. When using Sequential models, prefer using an `Input(shape)` object as the first layer in the model instead.\n",
      "  super().__init__(activity_regularizer=activity_regularizer, **kwargs)\n"
     ]
    },
    {
     "name": "stdout",
     "output_type": "stream",
     "text": [
      "\u001b[1m1350/1350\u001b[0m \u001b[32m━━━━━━━━━━━━━━━━━━━━\u001b[0m\u001b[37m\u001b[0m \u001b[1m1s\u001b[0m 637us/step\n",
      "\u001b[1m150/150\u001b[0m \u001b[32m━━━━━━━━━━━━━━━━━━━━\u001b[0m\u001b[37m\u001b[0m \u001b[1m0s\u001b[0m 632us/step\n"
     ]
    },
    {
     "name": "stderr",
     "output_type": "stream",
     "text": [
      "C:\\Users\\Administrator\\AppData\\Local\\Programs\\Python\\Python312\\Lib\\site-packages\\keras\\src\\layers\\core\\dense.py:87: UserWarning: Do not pass an `input_shape`/`input_dim` argument to a layer. When using Sequential models, prefer using an `Input(shape)` object as the first layer in the model instead.\n",
      "  super().__init__(activity_regularizer=activity_regularizer, **kwargs)\n"
     ]
    },
    {
     "name": "stdout",
     "output_type": "stream",
     "text": [
      "\u001b[1m1350/1350\u001b[0m \u001b[32m━━━━━━━━━━━━━━━━━━━━\u001b[0m\u001b[37m\u001b[0m \u001b[1m1s\u001b[0m 662us/step\n",
      "\u001b[1m150/150\u001b[0m \u001b[32m━━━━━━━━━━━━━━━━━━━━\u001b[0m\u001b[37m\u001b[0m \u001b[1m0s\u001b[0m 562us/step\n"
     ]
    },
    {
     "name": "stderr",
     "output_type": "stream",
     "text": [
      "C:\\Users\\Administrator\\AppData\\Local\\Programs\\Python\\Python312\\Lib\\site-packages\\keras\\src\\layers\\core\\dense.py:87: UserWarning: Do not pass an `input_shape`/`input_dim` argument to a layer. When using Sequential models, prefer using an `Input(shape)` object as the first layer in the model instead.\n",
      "  super().__init__(activity_regularizer=activity_regularizer, **kwargs)\n"
     ]
    },
    {
     "name": "stdout",
     "output_type": "stream",
     "text": [
      "\u001b[1m1350/1350\u001b[0m \u001b[32m━━━━━━━━━━━━━━━━━━━━\u001b[0m\u001b[37m\u001b[0m \u001b[1m1s\u001b[0m 946us/step\n",
      "\u001b[1m150/150\u001b[0m \u001b[32m━━━━━━━━━━━━━━━━━━━━\u001b[0m\u001b[37m\u001b[0m \u001b[1m0s\u001b[0m 946us/step\n"
     ]
    },
    {
     "name": "stderr",
     "output_type": "stream",
     "text": [
      "C:\\Users\\Administrator\\AppData\\Local\\Programs\\Python\\Python312\\Lib\\site-packages\\keras\\src\\layers\\core\\dense.py:87: UserWarning: Do not pass an `input_shape`/`input_dim` argument to a layer. When using Sequential models, prefer using an `Input(shape)` object as the first layer in the model instead.\n",
      "  super().__init__(activity_regularizer=activity_regularizer, **kwargs)\n"
     ]
    },
    {
     "name": "stdout",
     "output_type": "stream",
     "text": [
      "\u001b[1m1350/1350\u001b[0m \u001b[32m━━━━━━━━━━━━━━━━━━━━\u001b[0m\u001b[37m\u001b[0m \u001b[1m1s\u001b[0m 1ms/step \n",
      "\u001b[1m150/150\u001b[0m \u001b[32m━━━━━━━━━━━━━━━━━━━━\u001b[0m\u001b[37m\u001b[0m \u001b[1m0s\u001b[0m 1ms/step\n"
     ]
    },
    {
     "name": "stderr",
     "output_type": "stream",
     "text": [
      "C:\\Users\\Administrator\\AppData\\Local\\Programs\\Python\\Python312\\Lib\\site-packages\\keras\\src\\layers\\core\\dense.py:87: UserWarning: Do not pass an `input_shape`/`input_dim` argument to a layer. When using Sequential models, prefer using an `Input(shape)` object as the first layer in the model instead.\n",
      "  super().__init__(activity_regularizer=activity_regularizer, **kwargs)\n"
     ]
    },
    {
     "name": "stdout",
     "output_type": "stream",
     "text": [
      "\u001b[1m1350/1350\u001b[0m \u001b[32m━━━━━━━━━━━━━━━━━━━━\u001b[0m\u001b[37m\u001b[0m \u001b[1m1s\u001b[0m 979us/step\n",
      "\u001b[1m150/150\u001b[0m \u001b[32m━━━━━━━━━━━━━━━━━━━━\u001b[0m\u001b[37m\u001b[0m \u001b[1m0s\u001b[0m 851us/step\n"
     ]
    },
    {
     "name": "stderr",
     "output_type": "stream",
     "text": [
      "C:\\Users\\Administrator\\AppData\\Local\\Programs\\Python\\Python312\\Lib\\site-packages\\keras\\src\\layers\\core\\dense.py:87: UserWarning: Do not pass an `input_shape`/`input_dim` argument to a layer. When using Sequential models, prefer using an `Input(shape)` object as the first layer in the model instead.\n",
      "  super().__init__(activity_regularizer=activity_regularizer, **kwargs)\n"
     ]
    },
    {
     "name": "stdout",
     "output_type": "stream",
     "text": [
      "\u001b[1m1350/1350\u001b[0m \u001b[32m━━━━━━━━━━━━━━━━━━━━\u001b[0m\u001b[37m\u001b[0m \u001b[1m2s\u001b[0m 1ms/step\n",
      "\u001b[1m150/150\u001b[0m \u001b[32m━━━━━━━━━━━━━━━━━━━━\u001b[0m\u001b[37m\u001b[0m \u001b[1m0s\u001b[0m 1ms/step\n"
     ]
    },
    {
     "name": "stderr",
     "output_type": "stream",
     "text": [
      "C:\\Users\\Administrator\\AppData\\Local\\Programs\\Python\\Python312\\Lib\\site-packages\\keras\\src\\layers\\core\\dense.py:87: UserWarning: Do not pass an `input_shape`/`input_dim` argument to a layer. When using Sequential models, prefer using an `Input(shape)` object as the first layer in the model instead.\n",
      "  super().__init__(activity_regularizer=activity_regularizer, **kwargs)\n"
     ]
    },
    {
     "name": "stdout",
     "output_type": "stream",
     "text": [
      "\u001b[1m1350/1350\u001b[0m \u001b[32m━━━━━━━━━━━━━━━━━━━━\u001b[0m\u001b[37m\u001b[0m \u001b[1m1s\u001b[0m 847us/step\n",
      "\u001b[1m150/150\u001b[0m \u001b[32m━━━━━━━━━━━━━━━━━━━━\u001b[0m\u001b[37m\u001b[0m \u001b[1m0s\u001b[0m 1ms/step\n"
     ]
    },
    {
     "name": "stderr",
     "output_type": "stream",
     "text": [
      "C:\\Users\\Administrator\\AppData\\Local\\Programs\\Python\\Python312\\Lib\\site-packages\\keras\\src\\layers\\core\\dense.py:87: UserWarning: Do not pass an `input_shape`/`input_dim` argument to a layer. When using Sequential models, prefer using an `Input(shape)` object as the first layer in the model instead.\n",
      "  super().__init__(activity_regularizer=activity_regularizer, **kwargs)\n"
     ]
    },
    {
     "name": "stdout",
     "output_type": "stream",
     "text": [
      "\u001b[1m1350/1350\u001b[0m \u001b[32m━━━━━━━━━━━━━━━━━━━━\u001b[0m\u001b[37m\u001b[0m \u001b[1m1s\u001b[0m 928us/step\n",
      "\u001b[1m150/150\u001b[0m \u001b[32m━━━━━━━━━━━━━━━━━━━━\u001b[0m\u001b[37m\u001b[0m \u001b[1m0s\u001b[0m 997us/step\n"
     ]
    },
    {
     "name": "stderr",
     "output_type": "stream",
     "text": [
      "C:\\Users\\Administrator\\AppData\\Local\\Programs\\Python\\Python312\\Lib\\site-packages\\keras\\src\\layers\\core\\dense.py:87: UserWarning: Do not pass an `input_shape`/`input_dim` argument to a layer. When using Sequential models, prefer using an `Input(shape)` object as the first layer in the model instead.\n",
      "  super().__init__(activity_regularizer=activity_regularizer, **kwargs)\n"
     ]
    },
    {
     "name": "stdout",
     "output_type": "stream",
     "text": [
      "\u001b[1m1350/1350\u001b[0m \u001b[32m━━━━━━━━━━━━━━━━━━━━\u001b[0m\u001b[37m\u001b[0m \u001b[1m1s\u001b[0m 857us/step\n",
      "\u001b[1m150/150\u001b[0m \u001b[32m━━━━━━━━━━━━━━━━━━━━\u001b[0m\u001b[37m\u001b[0m \u001b[1m0s\u001b[0m 937us/step\n",
      "\u001b[1m375/375\u001b[0m \u001b[32m━━━━━━━━━━━━━━━━━━━━\u001b[0m\u001b[37m\u001b[0m \u001b[1m0s\u001b[0m 609us/step\n"
     ]
    }
   ],
   "source": [
    "# Initialize lists to store metrics\n",
    "train_accuracies = []\n",
    "test_accuracies = []\n",
    "precisions = []\n",
    "recalls = []\n",
    "f1_scores = []\n",
    "confusion_matrices = []\n",
    "start = datetime.now()\n",
    "\n",
    "for train_index, test_index in kf.split(X_train_cv):\n",
    "    X_train, X_test = X_train_cv.iloc[train_index], X_train_cv.iloc[test_index]\n",
    "    y_train, y_test = y_train_cv[train_index], y_train_cv[test_index]  # Use NumPy indexing here\n",
    "    \n",
    "    model = create_model()\n",
    "    model.fit(X_train, y_train, epochs=50, batch_size=10, verbose=0)\n",
    "    \n",
    "    # Evaluate on training data\n",
    "    y_pred_train = (model.predict(X_train) > 0.5).astype(int)\n",
    "    y_pred_test = (model.predict(X_test) > 0.5).astype(int)\n",
    "    \n",
    "    # Calculate metrics for the test fold\n",
    "    train_accuracies.append(accuracy_score(y_train.argmax(axis=1), y_pred_train.argmax(axis=1)))\n",
    "    test_accuracies.append(accuracy_score(y_test.argmax(axis=1), y_pred_test.argmax(axis=1)))\n",
    "    precisions.append(precision_score(y_test.argmax(axis=1), y_pred_test.argmax(axis=1), average='weighted'))\n",
    "    recalls.append(recall_score(y_test.argmax(axis=1), y_pred_test.argmax(axis=1), average='weighted'))\n",
    "    f1_scores.append(f1_score(y_test.argmax(axis=1), y_pred_test.argmax(axis=1), average='weighted'))\n",
    "    confusion_matrices.append(confusion_matrix(y_test.argmax(axis=1), y_pred_test.argmax(axis=1)))\n",
    "\n",
    "y_unseen_pred = (model.predict(X_unseen_test) > 0.5).astype(int)\n",
    "unseen_accuracy = accuracy_score(y_unseen_test.argmax(axis=1), y_unseen_pred.argmax(axis=1))\n",
    "unseen_precision = precision_score(y_unseen_test.argmax(axis=1), y_unseen_pred.argmax(axis=1), average='weighted')\n",
    "unseen_recall = recall_score(y_unseen_test.argmax(axis=1), y_unseen_pred.argmax(axis=1), average='weighted')\n",
    "unseen_f1 = f1_score(y_unseen_test.argmax(axis=1), y_unseen_pred.argmax(axis=1), average='weighted')\n",
    "unseen_conf_matrix = confusion_matrix(y_unseen_test.argmax(axis=1), y_unseen_pred.argmax(axis=1))\n",
    "end = datetime.now()"
   ]
  },
  {
   "cell_type": "code",
   "execution_count": 7,
   "id": "d24e85cc-3136-40ba-847a-4714ede924bf",
   "metadata": {},
   "outputs": [
    {
     "name": "stdout",
     "output_type": "stream",
     "text": [
      "Average Confusion Matrix:\n",
      "547.50  35.50   0.00  40.40   0.40 175.30\n",
      " 16.30 749.90   0.00   0.00   0.00  28.20\n",
      "  5.70   0.00 793.80   0.00   0.00   0.00\n",
      "  0.10   0.00   0.00 798.90   0.00   0.60\n",
      "  4.00   0.00   0.00   0.00 799.50   0.00\n",
      "  4.70   0.00   0.00   0.00   0.00 799.20\n"
     ]
    }
   ],
   "source": [
    "# Calculate the average confusion matrix for multi-class classification\n",
    "import numpy as np\n",
    "\n",
    "# Determine the number of classes from the confusion matrices\n",
    "num_classes = confusion_matrices[0].shape[0]\n",
    "\n",
    "# Initialize an array to store the sum of confusion matrices\n",
    "confusion_matrix_sum = np.zeros((num_classes, num_classes))\n",
    "\n",
    "# Sum up the confusion matrices from all folds\n",
    "for cm in confusion_matrices:\n",
    "    confusion_matrix_sum += cm\n",
    "\n",
    "# Compute the average confusion matrix\n",
    "average_conf_matrix = confusion_matrix_sum / len(confusion_matrices)\n",
    "\n",
    "# Display the average confusion matrix\n",
    "print(\"Average Confusion Matrix:\")\n",
    "max_width = max(len(\"{:.2f}\".format(value)) for row in average_conf_matrix for value in row)\n",
    "\n",
    "# Print each row with formatted values\n",
    "for row in average_conf_matrix:\n",
    "    print(\" \".join(f\"{value:>{max_width}.2f}\" for value in row))"
   ]
  },
  {
   "cell_type": "code",
   "execution_count": 8,
   "id": "b7acf089-88a8-4b70-bd60-7683ebac1429",
   "metadata": {
    "scrolled": true
   },
   "outputs": [
    {
     "name": "stdout",
     "output_type": "stream",
     "text": [
      "Fold 1:\n",
      "Training Accuracy: 0.9352083333333333\n",
      "Testing Accuracy: 0.935625\n",
      "Precision: 0.941308756107088\n",
      "Recall: 0.935625\n",
      "F1-Score: 0.9331087281212704\n",
      "Confusion Matrix:\n",
      "[[513  42   0  33   0 173]\n",
      " [ 16 774   0   0   0  30]\n",
      " [  6   0 767   0   0   0]\n",
      " [  0   0   0 794   0   0]\n",
      " [  4   0   0   0 803   0]\n",
      " [  5   0   0   0   0 840]]\n",
      "\n",
      "Fold 2:\n",
      "Training Accuracy: 0.9361111111111111\n",
      "Testing Accuracy: 0.93\n",
      "Precision: 0.9375208281161953\n",
      "Recall: 0.93\n",
      "F1-Score: 0.927695692975077\n",
      "Confusion Matrix:\n",
      "[[560  31   0  47   0 191]\n",
      " [ 22 725   0   0   0  30]\n",
      " [  6   0 806   0   0   0]\n",
      " [  0   0   0 813   0   1]\n",
      " [  5   0   0   0 780   0]\n",
      " [  3   0   0   0   0 780]]\n",
      "\n",
      "Fold 3:\n",
      "Training Accuracy: 0.9355787037037037\n",
      "Testing Accuracy: 0.9345833333333333\n",
      "Precision: 0.9418167400243974\n",
      "Recall: 0.9345833333333333\n",
      "F1-Score: 0.9324664778959777\n",
      "Confusion Matrix:\n",
      "[[538  33   0  37   0 182]\n",
      " [ 14 802   0   0   0  31]\n",
      " [  9   0 765   0   0   0]\n",
      " [  0   0   0 823   0   2]\n",
      " [  2   0   0   0 767   0]\n",
      " [  4   0   0   0   0 791]]\n",
      "\n",
      "Fold 4:\n",
      "Training Accuracy: 0.9357638888888888\n",
      "Testing Accuracy: 0.9341666666666667\n",
      "Precision: 0.9401044793141188\n",
      "Recall: 0.9341666666666667\n",
      "F1-Score: 0.9317407253293214\n",
      "Confusion Matrix:\n",
      "[[565  38   0  49   0 171]\n",
      " [ 16 717   0   0   0  26]\n",
      " [  5   0 836   0   0   0]\n",
      " [  0   0   0 772   0   0]\n",
      " [  5   0   0   0 798   0]\n",
      " [  6   0   0   0   0 796]]\n",
      "\n",
      "Fold 5:\n",
      "Training Accuracy: 0.9351157407407408\n",
      "Testing Accuracy: 0.9377083333333334\n",
      "Precision: 0.9454580224530544\n",
      "Recall: 0.9377083333333334\n",
      "F1-Score: 0.9354266613367705\n",
      "Confusion Matrix:\n",
      "[[558  42   0  32   0 181]\n",
      " [  7 760   0   0   0  28]\n",
      " [  5   0 787   0   0   0]\n",
      " [  0   0   0 792   0   0]\n",
      " [  1   0   0   0 794   0]\n",
      " [  3   0   0   0   0 810]]\n",
      "\n",
      "Fold 6:\n",
      "Training Accuracy: 0.935162037037037\n",
      "Testing Accuracy: 0.9370833333333334\n",
      "Precision: 0.9423272602889661\n",
      "Recall: 0.9370833333333334\n",
      "F1-Score: 0.9347726240747821\n",
      "Confusion Matrix:\n",
      "[[546  39   0  43   0 163]\n",
      " [ 18 748   0   0   0  23]\n",
      " [  4   0 785   0   0   0]\n",
      " [  0   0   0 813   0   1]\n",
      " [  7   0   0   0 822   0]\n",
      " [  4   0   0   0   0 784]]\n",
      "\n",
      "Fold 7:\n",
      "Training Accuracy: 0.9352777777777778\n",
      "Testing Accuracy: 0.9345833333333333\n",
      "Precision: 0.9411180159215428\n",
      "Recall: 0.9345833333333333\n",
      "F1-Score: 0.9322068598185793\n",
      "Confusion Matrix:\n",
      "[[525  33   0  39   1 179]\n",
      " [ 16 742   0   0   0  31]\n",
      " [  5   0 808   0   0   0]\n",
      " [  0   0   0 800   0   1]\n",
      " [  4   0   0   0 792   0]\n",
      " [  5   0   0   0   0 819]]\n",
      "\n",
      "Fold 8:\n",
      "Training Accuracy: 0.9356712962962963\n",
      "Testing Accuracy: 0.9372916666666666\n",
      "Precision: 0.9421850354373725\n",
      "Recall: 0.9372916666666666\n",
      "F1-Score: 0.9353060954239256\n",
      "Confusion Matrix:\n",
      "[[570  38   0  48   1 148]\n",
      " [ 13 734   0   0   0  33]\n",
      " [  7   0 803   0   0   0]\n",
      " [  0   0   0 797   0   0]\n",
      " [  5   0   0   0 804   0]\n",
      " [  8   0   0   0   0 791]]\n",
      "\n",
      "Fold 9:\n",
      "Training Accuracy: 0.9345138888888889\n",
      "Testing Accuracy: 0.940625\n",
      "Precision: 0.9466398772809199\n",
      "Recall: 0.940625\n",
      "F1-Score: 0.9389904389394045\n",
      "Confusion Matrix:\n",
      "[[569  28   0  33   1 166]\n",
      " [ 18 763   0   0   0  29]\n",
      " [  3   0 774   0   0   0]\n",
      " [  1   0   0 801   0   0]\n",
      " [  2   0   0   0 814   0]\n",
      " [  4   0   0   0   0 794]]\n",
      "\n",
      "Fold 10:\n",
      "Training Accuracy: 0.9358101851851852\n",
      "Testing Accuracy: 0.93\n",
      "Precision: 0.9367952045681072\n",
      "Recall: 0.93\n",
      "F1-Score: 0.9273116113410115\n",
      "Confusion Matrix:\n",
      "[[531  31   0  43   1 199]\n",
      " [ 23 734   0   0   0  21]\n",
      " [  7   0 807   0   0   0]\n",
      " [  0   0   0 784   0   1]\n",
      " [  5   0   0   0 821   0]\n",
      " [  5   0   0   0   0 787]]\n",
      "\n",
      "Average Training Accuracy: 0.9354212962962963\n",
      "Average Testing Accuracy: 0.9351666666666667\n",
      "Average Precision: 0.9415274219511762\n",
      "Average recall: 0.9351666666666667\n",
      "Average F1 Score: 0.932902591525612\n",
      "Performance on Unseen Data:\n",
      "Accuracy: 0.9333333333333333\n",
      "Precision: 0.9397747355631773\n",
      "Recall: 0.9333333333333333\n",
      "F1-Score: 0.9311059999210164\n",
      "Confusion Matrix:\n",
      "[[1373   93    0  102    1  440]\n",
      " [  52 1927    0    0    0   77]\n",
      " [   7    0 1998    0    0    0]\n",
      " [   2    0    0 2001    0    1]\n",
      " [  15    0    0    0 1950    0]\n",
      " [  10    0    0    0    0 1951]]\n",
      "excution time:  0:35:29.775656\n"
     ]
    }
   ],
   "source": [
    "# Print the metrics for each fold\n",
    "for i in range(10):\n",
    "    print(f\"Fold {i+1}:\")\n",
    "    print(f\"Training Accuracy: {train_accuracies[i]}\")\n",
    "    print(f\"Testing Accuracy: {test_accuracies[i]}\")\n",
    "    print(f\"Precision: {precisions[i]}\")\n",
    "    print(f\"Recall: {recalls[i]}\")\n",
    "    print(f\"F1-Score: {f1_scores[i]}\")\n",
    "    print(f\"Confusion Matrix:\\n{confusion_matrices[i]}\\n\")\n",
    "\n",
    "print(f\"Average Training Accuracy: {sum(train_accuracies) / 10}\")\n",
    "print(f\"Average Testing Accuracy: {sum(test_accuracies) / 10}\")\n",
    "print(f\"Average Precision: {sum(precisions) / 10}\")\n",
    "print(f\"Average recall: {sum(recalls) / 10}\")\n",
    "print(f\"Average F1 Score: {sum(f1_scores) / 10}\")\n",
    "\n",
    "# Print the performance on the unseen data\n",
    "print(\"Performance on Unseen Data:\")\n",
    "print(f\"Accuracy: {unseen_accuracy}\")\n",
    "print(f\"Precision: {unseen_precision}\")\n",
    "print(f\"Recall: {unseen_recall}\")\n",
    "print(f\"F1-Score: {unseen_f1}\")\n",
    "print(f\"Confusion Matrix:\\n{unseen_conf_matrix}\")\n",
    "print(\"excution time: \", end-start)\n",
    " "
   ]
  },
  {
   "cell_type": "code",
   "execution_count": 9,
   "id": "f922c2a8-ee07-4cba-be86-1d8be7935e6a",
   "metadata": {},
   "outputs": [],
   "source": [
    "# import pickle\n",
    "# with open('ann_multi.pkl', 'wb') as file:\n",
    "#     pickle.dump(model, file)"
   ]
  },
  {
   "cell_type": "code",
   "execution_count": null,
   "id": "a1b246c7-ef8f-42e8-b8f4-ff22d932cead",
   "metadata": {},
   "outputs": [],
   "source": []
  }
 ],
 "metadata": {
  "kernelspec": {
   "display_name": "Python 3 (ipykernel)",
   "language": "python",
   "name": "python3"
  },
  "language_info": {
   "codemirror_mode": {
    "name": "ipython",
    "version": 3
   },
   "file_extension": ".py",
   "mimetype": "text/x-python",
   "name": "python",
   "nbconvert_exporter": "python",
   "pygments_lexer": "ipython3",
   "version": "3.12.2"
  }
 },
 "nbformat": 4,
 "nbformat_minor": 5
}
